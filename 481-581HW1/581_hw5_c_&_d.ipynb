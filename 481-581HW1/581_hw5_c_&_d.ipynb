{
 "cells": [
  {
   "cell_type": "code",
   "execution_count": 14,
   "metadata": {},
   "outputs": [],
   "source": [
    "import numpy as np\n",
    "import matplotlib.pyplot as plt\n",
    "import time\n",
    "import imageio.v2 as imageio\n",
    "from scipy.fftpack import fft, fft2, ifft2\n",
    "from scipy.integrate import solve_ivp\n",
    "from scipy.linalg import solve, solve_triangular, lu\n",
    "from scipy.sparse.linalg import bicgstab, gmres\n",
    "from scipy.sparse import spdiags\n"
   ]
  },
  {
   "cell_type": "code",
   "execution_count": 15,
   "metadata": {},
   "outputs": [],
   "source": [
    "#+++++++++++++++ 1. Parameters\n",
    "tspan = np.arange(0, 50.5, 0.5)\n",
    "nu = 0.001\n",
    "Lx, Ly = 20, 20\n",
    "nx, ny = 64, 64\n",
    "N = nx * ny\n"
   ]
  },
  {
   "cell_type": "code",
   "execution_count": 16,
   "metadata": {},
   "outputs": [],
   "source": [
    "#+++++++++++++++  2. Define spatial domain and initial conditions\n",
    "x2 = np.linspace(-Lx/2, Lx/2, nx + 1)\n",
    "x = x2[:nx]\n",
    "y2 = np.linspace(-Ly/2, Ly/2, ny + 1)\n",
    "y = y2[:ny]\n",
    "X, Y = np.meshgrid(x, y)\n"
   ]
  },
  {
   "cell_type": "code",
   "execution_count": 17,
   "metadata": {},
   "outputs": [],
   "source": [
    "#+++++++++++++++  3. Define spectral k values\n",
    "kx = (2 * np.pi / Lx) * np.concatenate((np.arange(0, nx/2), np.arange(-nx/2, 0)))\n",
    "kx[0] = 1e-6\n",
    "ky = (2 * np.pi / Ly) * np.concatenate((np.arange(0, ny/2), np.arange(-ny/2, 0)))\n",
    "ky[0] = 1e-6\n",
    "KX, KY = np.meshgrid(kx, ky)\n",
    "K = KX**2 + KY**2"
   ]
  },
  {
   "cell_type": "code",
   "execution_count": 18,
   "metadata": {},
   "outputs": [],
   "source": [
    "#+++++++++++++++  4. Return Code from HW 4\n",
    "# Parameters\n",
    "m = 64\n",
    "L = 20\n",
    "dx = L / m\n",
    "n = m * m\n",
    "\n",
    "e0 = np.zeros(n)\n",
    "e1 = np.ones(n)\n",
    "e2 = np.copy(e1)\n",
    "e4 = np.copy(e0)\n",
    "\n",
    "for j in range(1, m+1):\n",
    "    e2[m*j - 1] = 0 \n",
    "    e4[m*j - 1] = 1\n",
    "\n",
    "# Adjusted vectors for diagonals\n",
    "e3 = np.zeros_like(e2)\n",
    "e3[1:n] = e2[0:n-1]\n",
    "e3[0] = e2[n-1]\n",
    "\n",
    "e5 = np.zeros_like(e4)\n",
    "e5[1:n] = e4[0:n-1]\n",
    "e5[0] = e4[n-1]\n",
    "\n",
    "# Construct Matrix a (Laplacian)\n",
    "diagonals_A = [e1, e1, e5, e2, -4 * e1, e3, e4, e1, e1]\n",
    "offsets_A = [-(n - m), -m, -m + 1, -1, 0, 1, m - 1, m, (n - m)]\n",
    "A = (spdiags(diagonals_A, offsets_A, n, n) / (dx**2)).toarray()\n",
    "\n",
    "# Construct Matrix C (Partial derivative with respect to y)\n",
    "diagonals_B = [e1, -e1, e1, -e1]\n",
    "offsets_B = [-(n - m),-m, m, (n - m)]\n",
    "B = (spdiags(diagonals_B, offsets_B, n, n) / (2 * dx)).toarray()\n",
    "\n",
    "# Construct Matrix b (Partial derivative with respect to x)\n",
    "diagonals_C = [e5, -e2, e3, -e4]\n",
    "offsets_C = [-m + 1, -1, 1, m - 1]\n",
    "C = (spdiags(diagonals_C, offsets_C, n, n) / (2 * dx)).toarray()\n",
    "\n",
    "A[0, 0] = 2\n"
   ]
  },
  {
   "cell_type": "code",
   "execution_count": null,
   "metadata": {},
   "outputs": [
    {
     "name": "stdout",
     "output_type": "stream",
     "text": [
      "Time to run fft :  16.094664812088013\n"
     ]
    }
   ],
   "source": [
    "# Part C\n",
    "\n",
    "w1 = (np.exp(-(X+4)**2 - Y**2 / 20)).flatten()\n",
    "w2 = -1 * (np.exp(-(X-4)**2 - Y**2 / 20)).flatten()\n",
    "w3 = -1 * w1\n",
    "w4 = -1 * w2\n",
    "\n",
    "# FFT Method\n",
    "\n",
    "#+++++++++++++++  5. Define the PDE system\n",
    "def spc_rhs(t, w, nx, ny, K, nu):\n",
    "    wtc = w.reshape((nx, ny))\n",
    "    wt = fft2(wtc)\n",
    "    psit = -wt / K\n",
    "    psi = np.real(ifft2(psit))\n",
    "    psi = psi.flatten()\n",
    "    rhs = nu * np.dot(A, w) - np.dot(B, psi) * np.dot(C, w) + np.dot(C, psi) * np.dot(B, w)\n",
    "    return rhs\n",
    "\n",
    "#+++++++++++++++ 6. Solution\n",
    "start_time = time.time()\n",
    "wtsol = solve_ivp(spc_rhs, (tspan[0], tspan[-1]), w1, t_eval=tspan, method = 'RK45', args = (nx, ny, K, nu))\n",
    "wtsol2 = solve_ivp(spc_rhs, (tspan[0], tspan[-1]), w2, t_eval=tspan, method = 'RK45', args = (nx, ny, K, nu))\n",
    "wtsol3 = solve_ivp(spc_rhs, (tspan[0], tspan[-1]), w3, t_eval=tspan, method = 'RK45', args = (nx, ny, K, nu))\n",
    "wtsol4 = solve_ivp(spc_rhs, (tspan[0], tspan[-1]), w4, t_eval=tspan, method = 'RK45', args = (nx, ny, K, nu))\n",
    "A1w1 = wtsol.y\n",
    "A1w2 = wtsol2.y\n",
    "A1w3 = wtsol3.y\n",
    "A1w4 = wtsol3.y\n",
    "end_time = time.time()\n",
    "\n",
    "fft_time = end_time - start_time\n",
    "\n",
    "# print(A1w1)\n",
    "print(\"Time to run fft : \", fft_time)\n",
    "\n",
    "# # # +++++++++++++++ Plot the solution at each time step\n",
    "# for j, t in enumerate(tspan):\n",
    "#     wtc = A1[:, j].reshape((ny, nx)) \n",
    "#     # wtc2 = A1w2[:, j].reshape((ny, nx)) \n",
    "#     plt.subplot(3, 3, j + 1)\n",
    "#     plt.pcolor(x, y, wtc, shading='auto', cmap='gnuplot')\n",
    "#     # plt.pcolor(x, y, wtc2, shading='auto', cmap='gnuplot')\n",
    "#     plt.title(f'Time: {t}')\n",
    "#     plt.colorbar()\n",
    "\n",
    "# plt.tight_layout()\n",
    "# plt.show()"
   ]
  },
  {
   "cell_type": "code",
   "execution_count": null,
   "metadata": {},
   "outputs": [
    {
     "name": "stdout",
     "output_type": "stream",
     "text": [
      "GIF created successfully!\n"
     ]
    }
   ],
   "source": [
    "# #  +++++++++++++++  Two opposite “charged”\n",
    "gif_frames = []\n",
    "\n",
    "# # Plot the solution at each time step and save frames\n",
    "for j, t in enumerate(tspan):\n",
    "    wtc1 = A1w1[:, j].reshape((ny, nx)) \n",
    "    wtc2 = A1w2[:, j].reshape((ny, nx)) \n",
    "    wtc3 = A1w3[:, j].reshape((ny, nx)) \n",
    "    wtc4 = A1w4[:, j].reshape((ny, nx)) \n",
    "    \n",
    "    # Create plot\n",
    "    fig, ax = plt.subplots()\n",
    "    c = ax.pcolor(x, y, wtc1+wtc2, shading='auto', cmap='inferno')\n",
    "    fig.colorbar(c)\n",
    "    ax.set_title(f'Time: {t}')\n",
    "    \n",
    "    # Save the current plot as an image frame\n",
    "    plt.savefig('frame.png')  # Save frame to file\n",
    "    plt.close(fig)\n",
    "    \n",
    "    # Append the frame to gif_frames list\n",
    "    gif_frames.append(imageio.imread('frame.png'))\n",
    "\n",
    "# Create the .gif\n",
    "imageio.mimsave('opposite_charge.gif', gif_frames, duration=0.2)  # 0.5 seconds between frames\n",
    "\n",
    "# Optional: Remove the frame image after gif creation\n",
    "import os\n",
    "os.remove('frame.png')\n",
    "\n",
    "print(\"GIF created successfully!\")"
   ]
  },
  {
   "cell_type": "code",
   "execution_count": null,
   "metadata": {},
   "outputs": [
    {
     "name": "stdout",
     "output_type": "stream",
     "text": [
      "GIF created successfully!\n"
     ]
    }
   ],
   "source": [
    "# #  +++++++++++++++  Same “charged” with (-) (-)\n",
    "gif_frames = []\n",
    "\n",
    "# # Plot the solution at each time step and save frames\n",
    "for j, t in enumerate(tspan):\n",
    "    wtc1 = A1w1[:, j].reshape((ny, nx)) \n",
    "    wtc2 = A1w2[:, j].reshape((ny, nx)) \n",
    "    wtc3 = A1w3[:, j].reshape((ny, nx)) \n",
    "    wtc4 = A1w4[:, j].reshape((ny, nx)) \n",
    "    \n",
    "    # Create plot\n",
    "    fig, ax = plt.subplots()\n",
    "    c = ax.pcolor(x, y, wtc1+wtc4, shading='auto', cmap='inferno')\n",
    "    fig.colorbar(c)\n",
    "    ax.set_title(f'Time: {t}')\n",
    "    \n",
    "    # Save the current plot as an image frame\n",
    "    plt.savefig('frame.png')  # Save frame to file\n",
    "    plt.close(fig)\n",
    "    \n",
    "    # Append the frame to gif_frames list\n",
    "    gif_frames.append(imageio.imread('frame.png'))\n",
    "\n",
    "# Create the .gif\n",
    "imageio.mimsave('same_negative_charge.gif', gif_frames, duration=0.2)  # 0.5 seconds between frames\n",
    "\n",
    "# Optional: Remove the frame image after gif creation\n",
    "import os\n",
    "os.remove('frame.png')\n",
    "\n",
    "print(\"GIF created successfully!\")"
   ]
  },
  {
   "cell_type": "code",
   "execution_count": null,
   "metadata": {},
   "outputs": [
    {
     "name": "stdout",
     "output_type": "stream",
     "text": [
      "GIF created successfully!\n"
     ]
    }
   ],
   "source": [
    "# #  +++++++++++++++  Two pairs of oppositely “charged”\n",
    "gif_frames = []\n",
    "\n",
    "# # Plot the solution at each time step and save frames\n",
    "for j, t in enumerate(tspan):\n",
    "    wtc1 = A1w1[:, j].reshape((ny, nx)) \n",
    "    wtc2 = A1w2[:, j].reshape((ny, nx)) \n",
    "    wtc3 = A1w3[:, j].reshape((ny, nx)) \n",
    "    wtc4 = A1w4[:, j].reshape((ny, nx)) \n",
    "    \n",
    "    # Create plot\n",
    "    fig, ax = plt.subplots()\n",
    "    c = ax.pcolor(x, y, wtc1+wtc4, shading='auto', cmap='inferno')\n",
    "    fig.colorbar(c)\n",
    "    ax.set_title(f'Time: {t}')\n",
    "    \n",
    "    # Save the current plot as an image frame\n",
    "    plt.savefig('frame.png')  # Save frame to file\n",
    "    plt.close(fig)\n",
    "    \n",
    "    # Append the frame to gif_frames list\n",
    "    gif_frames.append(imageio.imread('frame.png'))\n",
    "\n",
    "# Create the .gif\n",
    "imageio.mimsave('same_positive_charge.gif', gif_frames, duration=0.2)  # 0.5 seconds between frames\n",
    "\n",
    "# Optional: Remove the frame image after gif creation\n",
    "import os\n",
    "os.remove('frame.png')\n",
    "\n",
    "print(\"GIF created successfully!\")"
   ]
  }
 ],
 "metadata": {
  "kernelspec": {
   "display_name": "Python 3",
   "language": "python",
   "name": "python3"
  },
  "language_info": {
   "codemirror_mode": {
    "name": "ipython",
    "version": 3
   },
   "file_extension": ".py",
   "mimetype": "text/x-python",
   "name": "python",
   "nbconvert_exporter": "python",
   "pygments_lexer": "ipython3",
   "version": "3.12.6"
  }
 },
 "nbformat": 4,
 "nbformat_minor": 2
}
